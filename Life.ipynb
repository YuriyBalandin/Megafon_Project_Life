{
  "nbformat": 4,
  "nbformat_minor": 0,
  "metadata": {
    "colab": {
      "name": "submission (1).ipynb",
      "provenance": [],
      "collapsed_sections": []
    },
    "kernelspec": {
      "name": "python3",
      "display_name": "Python 3"
    },
    "accelerator": "GPU"
  },
  "cells": [
    {
      "cell_type": "code",
      "metadata": {
        "id": "JKKoxkhTcyJR",
        "colab_type": "code",
        "colab": {}
      },
      "source": [
        "import numpy as np\n",
        "from matplotlib import pyplot as plt"
      ],
      "execution_count": 1,
      "outputs": []
    },
    {
      "cell_type": "code",
      "metadata": {
        "id": "AYj7Qd9Q3njk",
        "colab_type": "code",
        "colab": {}
      },
      "source": [
        ""
      ],
      "execution_count": 1,
      "outputs": []
    },
    {
      "cell_type": "code",
      "metadata": {
        "id": "ApwcMK54dG42",
        "colab_type": "code",
        "colab": {}
      },
      "source": [
        "# Задать размер решетки, количество итераций\n",
        "n = 40\n",
        "iteraz = 100"
      ],
      "execution_count": 2,
      "outputs": []
    },
    {
      "cell_type": "code",
      "metadata": {
        "id": "TxWEz_YHdiTZ",
        "colab_type": "code",
        "colab": {}
      },
      "source": [
        "# Задаём решетку начального состояния life_prev\n",
        "def initial_state(n):       \n",
        "  life_prev = np.zeros((n,n))\n",
        "  # Ниже задаем начальное сосояние, клетка 1 - живая, 0 - мертвая (Задан Планер)\n",
        "  life_prev[10,10]=1\n",
        "  life_prev[11,11]=1\n",
        "  life_prev[11,12]=1\n",
        "  life_prev[10,12]=1\n",
        "  life_prev[9,12]=1\n",
        "  life_next = life_prev.copy()\n",
        "  return [life_prev, life_next]"
      ],
      "execution_count": 3,
      "outputs": []
    },
    {
      "cell_type": "code",
      "metadata": {
        "id": "ODgO4m54iOsp",
        "colab_type": "code",
        "colab": {}
      },
      "source": [
        "# Задание случайной начальной конфигурации\n",
        "def random_initial_state(n):\n",
        "  life_prev = np.random.randint(2, size = (1,n**2))\n",
        "  life_prev = np.reshape(life_prev, (n,n))\n",
        "  life_next = life_prev.copy()\n",
        "  return [life_prev, life_next]"
      ],
      "execution_count": 4,
      "outputs": []
    },
    {
      "cell_type": "code",
      "metadata": {
        "id": "x_udbSm6N9vf",
        "colab_type": "code",
        "colab": {}
      },
      "source": [
        ""
      ],
      "execution_count": 4,
      "outputs": []
    },
    {
      "cell_type": "code",
      "metadata": {
        "id": "NPDGE2xwd0U1",
        "colab_type": "code",
        "colab": {}
      },
      "source": [
        "# Функция, котрая опредеяет рождение и смерть клеток\n",
        "def survive(life_prev, life_next):\n",
        "  for i in range(life_prev.shape[0]):\n",
        "    for j in range(life_prev.shape[1]):\n",
        "      if i == 0 and j == 0 : \n",
        "        if life_prev[i,j] == 0 and sum([life_prev[i+1,j], life_prev[i,j+1], life_prev[i+1,j+1]]) == 3 :\n",
        "          life_next[i,j] = 1\n",
        "        elif life_prev[i,j] == 1 and sum([life_prev[i+1,j], life_prev[i,j+1], life_prev[i+1,j+1]]) < 2 :\n",
        "          life_next[i,j] = 0\n",
        "      elif i == 0 and j == n-1 : \n",
        "        if life_prev[i,j] == 0 and sum([life_prev[i,j-1], life_prev[i+1,j-1], life_prev[i+1,j]]) == 3 :\n",
        "          life_next[i,j] = 1\n",
        "        elif life_prev[i,j] == 1 and sum([life_prev[i,j-1], life_prev[i+1,j-1], life_prev[i+1,j]]) < 2:\n",
        "          life_next[i,j] = 0\n",
        "      elif i == n-1 and j == n-1 : \n",
        "        if life_prev[i,j] == 0 and sum([life_prev[i-1,j], life_prev[i,j-1], life_prev[i-1,j-1]]) == 3 :\n",
        "          life_next[i,j] = 1\n",
        "        elif life_prev[i,j] == 1 and (sum([life_prev[i-1,j], life_prev[i,j-1], life_prev[i-1,j-1]]) < 2):\n",
        "          life_next[i,j] = 0\n",
        "      elif i == n-1 and j == 0 : \n",
        "        if life_prev[i,j] == 0 and sum([life_prev[i-1,j], life_prev[i-1,j+1], life_prev[i,j+1]]) == 3 :\n",
        "          life_next[i,j] = 1\n",
        "        elif life_prev[i,j] == 1 and (sum([life_prev[i-1,j], life_prev[i-1,j+1], life_prev[i,j+1]]) < 2):\n",
        "          life_next[i,j] = 0\n",
        "      elif i == 0:\n",
        "        if life_prev[i,j] == 0 and sum([life_prev[i,j+1],life_prev[i+1,j+1],life_prev[i+1,j],life_prev[i+1,j-1],life_prev[i,j-1]]) == 3 :\n",
        "          life_next[i,j] = 1\n",
        "        if life_prev[i,j] == 1 and (sum([life_prev[i,j+1],life_prev[i+1,j+1],life_prev[i+1,j],life_prev[i+1,j-1],life_prev[i,j-1]]) < 2 or sum([life_prev[i,j+1],life_prev[i+1,j+1],life_prev[i+1,j],life_prev[i+1,j-1],life_prev[i,j-1]]) >= 4):\n",
        "          life_next[i,j] = 0\n",
        "      elif i == n-1:\n",
        "        if life_prev[i,j] == 0 and sum([life_prev[i-1,j-1], life_prev[i-1,j], life_prev[i-1,j+1],life_prev[i,j+1],life_prev[i,j-1]]) == 3 :\n",
        "          life_next[i,j] = 1\n",
        "        if life_prev[i,j] == 1 and (sum([life_prev[i-1,j-1], life_prev[i-1,j], life_prev[i-1,j+1],life_prev[i,j+1],life_prev[i,j-1]]) < 2 or sum([life_prev[i-1,j-1], life_prev[i-1,j], life_prev[i-1,j+1],life_prev[i,j+1],life_prev[i,j-1]]) >= 4):\n",
        "          life_next[i,j] = 0\n",
        "      elif j == 0:\n",
        "        if life_prev[i,j] == 0 and sum([life_prev[i-1,j], life_prev[i-1,j+1],life_prev[i,j+1],life_prev[i+1,j+1],life_prev[i+1,j]]) == 3 :\n",
        "          life_next[i,j] = 1\n",
        "        if life_prev[i,j] == 1 and (sum([life_prev[i-1,j], life_prev[i-1,j+1],life_prev[i,j+1],life_prev[i+1,j+1],life_prev[i+1,j]]) < 2 or sum([life_prev[i-1,j], life_prev[i-1,j+1],life_prev[i,j+1],life_prev[i+1,j+1],life_prev[i+1,j]]) >= 4):\n",
        "          life_next[i,j] = 0        \n",
        "      elif j == n-1:\n",
        "        if life_prev[i,j] == 0 and sum([life_prev[i-1,j-1], life_prev[i-1,j],life_prev[i+1,j],life_prev[i+1,j-1],life_prev[i,j-1]]) == 3 :\n",
        "          life_next[i,j] = 1\n",
        "        if life_prev[i,j] == 1 and (sum([life_prev[i-1,j-1], life_prev[i-1,j],life_prev[i+1,j],life_prev[i+1,j-1],life_prev[i,j-1]]) < 2 or sum([life_prev[i-1,j-1], life_prev[i-1,j],life_prev[i+1,j],life_prev[i+1,j-1],life_prev[i,j-1]]) >= 4):\n",
        "          life_next[i,j] = 0\n",
        "      elif i < n-1 and i > 0 and j >0 and j < n-1:\n",
        "        if life_prev[i,j] == 0 and sum([life_prev[i-1,j-1], life_prev[i-1,j], life_prev[i-1,j+1],life_prev[i,j+1],life_prev[i+1,j+1],life_prev[i+1,j],life_prev[i+1,j-1],life_prev[i,j-1]]) == 3 :\n",
        "          life_next[i,j] = 1\n",
        "        if life_prev[i,j] == 1 and (sum([life_prev[i-1,j-1], life_prev[i-1,j], life_prev[i-1,j+1],life_prev[i,j+1],life_prev[i+1,j+1],life_prev[i+1,j],life_prev[i+1,j-1],life_prev[i,j-1]]) < 2 or sum([life_prev[i-1,j-1], life_prev[i-1,j], life_prev[i-1,j+1],life_prev[i,j+1],life_prev[i+1,j+1],life_prev[i+1,j],life_prev[i+1,j-1],life_prev[i,j-1]]) >= 4):\n",
        "          life_next[i,j] = 0"
      ],
      "execution_count": 5,
      "outputs": []
    },
    {
      "cell_type": "code",
      "metadata": {
        "id": "2K1iBegXJ-9U",
        "colab_type": "code",
        "colab": {}
      },
      "source": [
        "# Функция, которая создает жизнь (на выходе gif файл)\n",
        "def make_life(random = False):\n",
        "  images = []\n",
        "\n",
        "  if random == True:\n",
        "    life_prev, life_next = random_initial_state(n)\n",
        "  else :\n",
        "    life_prev, life_next = initial_state(n)\n",
        "\n",
        "  for k in range(iteraz):\n",
        "    plt.ioff()\n",
        "    fig , ax = plt.subplots(figsize = (7,7))\n",
        "    ax.matshow(life_prev)\n",
        "    plt.savefig('image'+str(k+1))\n",
        "    plt.close(fig)\n",
        "\n",
        "    survive(life_prev, life_next)\n",
        "    life_prev = life_next.copy()\n",
        "\n",
        "    images.append('image'+str(k+1)+'.png')\n",
        "\n",
        "  import imageio\n",
        "  with imageio.get_writer('life.gif', mode = 'I') as writer:\n",
        "    for filename in images:\n",
        "      image = imageio.imread(filename)\n",
        "      writer.append_data(image)\n",
        "    \n",
        "  from IPython.display import Image\n",
        "  with open('life.gif', 'rb') as f:\n",
        "    display(Image(data=f.read(), format='png'))\n",
        "  "
      ],
      "execution_count": 6,
      "outputs": []
    },
    {
      "cell_type": "code",
      "metadata": {
        "id": "DwBnwm5vd3C7",
        "colab_type": "code",
        "colab": {}
      },
      "source": [
        "make_life(random=True) # Создать случайную Жизнь "
      ],
      "execution_count": null,
      "outputs": []
    },
    {
      "cell_type": "code",
      "metadata": {
        "id": "TE3qlmpi4QxL",
        "colab_type": "code",
        "colab": {}
      },
      "source": [
        "make_life() # Создать жизнь, конфигурация которой задана в random_initial_state(n)"
      ],
      "execution_count": null,
      "outputs": []
    },
    {
      "cell_type": "code",
      "metadata": {
        "id": "u_Vwh_3Zk7k0",
        "colab_type": "code",
        "colab": {}
      },
      "source": [
        "# Долгожитель (R-пентамино)\n",
        "n = 120\n",
        "iteraz = 400\n",
        "def initial_state(n):       \n",
        "  life_prev = np.zeros((n,n))\n",
        "  life_prev[50,50]=1\n",
        "  life_prev[50,51]=1\n",
        "  life_prev[49,51]=1\n",
        "  life_prev[51,51]=1\n",
        "  life_prev[49,52]=1\n",
        "  life_next = life_prev.copy()\n",
        "  return [life_prev, life_next]\n",
        "\n",
        "make_life() "
      ],
      "execution_count": null,
      "outputs": []
    },
    {
      "cell_type": "code",
      "metadata": {
        "id": "E708_sXJlXD7",
        "colab_type": "code",
        "colab": {}
      },
      "source": [
        ""
      ],
      "execution_count": null,
      "outputs": []
    },
    {
      "cell_type": "code",
      "metadata": {
        "id": "QTwqM9WJmKR2",
        "colab_type": "code",
        "colab": {}
      },
      "source": [
        ""
      ],
      "execution_count": null,
      "outputs": []
    },
    {
      "cell_type": "code",
      "metadata": {
        "id": "ygG2JsZztPb3",
        "colab_type": "code",
        "colab": {}
      },
      "source": [
        ""
      ],
      "execution_count": null,
      "outputs": []
    },
    {
      "cell_type": "code",
      "metadata": {
        "id": "ueSt4sycxQAU",
        "colab_type": "code",
        "colab": {}
      },
      "source": [
        ""
      ],
      "execution_count": null,
      "outputs": []
    },
    {
      "cell_type": "code",
      "metadata": {
        "id": "UNyC-KhGf4m_",
        "colab_type": "code",
        "colab": {}
      },
      "source": [
        ""
      ],
      "execution_count": null,
      "outputs": []
    },
    {
      "cell_type": "code",
      "metadata": {
        "id": "oo9Fp-Wbnsrs",
        "colab_type": "code",
        "colab": {}
      },
      "source": [
        ""
      ],
      "execution_count": null,
      "outputs": []
    }
  ]
}